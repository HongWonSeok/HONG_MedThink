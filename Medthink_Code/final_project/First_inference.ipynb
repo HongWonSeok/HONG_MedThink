{
 "cells": [
  {
   "cell_type": "code",
   "execution_count": null,
   "id": "5e0d5087",
   "metadata": {},
   "outputs": [
    {
     "name": "stdout",
     "output_type": "stream",
     "text": [
      "total: 272\n",
      "correct: 221\n",
      "Accuracy: 0.8125 (221/272)\n"
     ]
    }
   ],
   "source": [
    "import json\n",
    "\n",
    "result_path = '/home/mixlab/tabular/medthink/output/rad_closed_end_generate/Explanation/First/test_response.json'\n",
    "label_path = '/home/mixlab/tabular/medthink/Medthink/Medthink_Dataset/R-RAD/closed-end/testset.json'\n",
    "\n",
    "with open(result_path, 'r') as f:\n",
    "    results = json.load(f)\n",
    "\n",
    "with open(label_path, 'r') as f:\n",
    "    labels = json.load(f)\n",
    "\n",
    "option_to_id = {'A': 0, 'B': 1}\n",
    "correct = 0\n",
    "total = 0\n",
    "\n",
    "for id_with_prefix, prediction in results.items():\n",
    "    id = id_with_prefix.split(\"_\")[1]\n",
    "    true_option = labels[id][\"answer\"]\n",
    "    \n",
    "    before_solution = prediction.split(\"Solution\")[0]\n",
    "\n",
    "    if \"(\" in prediction and \")\" in prediction:\n",
    "        pred_option = before_solution.split(\"(\")[-1].split(\")\")[0].strip()\n",
    "        pred_label = option_to_id.get(pred_option)\n",
    "    else:\n",
    "        continue  \n",
    "\n",
    "    total += 1\n",
    "    if pred_label == true_option:\n",
    "        correct += 1\n",
    "\n",
    "# 5. 정확도 계산\n",
    "accuracy = correct / total if total > 0 else 0.0\n",
    "print('total:', total)\n",
    "print('correct:', correct)\n",
    "print(f\"Accuracy: {accuracy:.4f} ({correct}/{total})\")\n"
   ]
  },
  {
   "cell_type": "code",
   "execution_count": 28,
   "id": "8980fba3",
   "metadata": {},
   "outputs": [
    {
     "name": "stdout",
     "output_type": "stream",
     "text": [
      "total: 1823\n",
      "correct: 1819\n",
      "Accuracy: 0.9978 (1819/1823)\n"
     ]
    }
   ],
   "source": [
    "import json\n",
    "\n",
    "result_path = '/home/mixlab/tabular/medthink/output/rad_closed_end_generate/Explanation/First/train_response.json'\n",
    "label_path = '/home/mixlab/tabular/medthink/Medthink/Medthink_Dataset/R-RAD/closed-end/trainset.json'\n",
    "\n",
    "with open(result_path, 'r') as f:\n",
    "    results = json.load(f)\n",
    "\n",
    "with open(label_path, 'r') as f:\n",
    "    labels = json.load(f)\n",
    "\n",
    "option_to_id = {'A': 0, 'B': 1}\n",
    "correct = 0\n",
    "total = 0\n",
    "\n",
    "for id_with_prefix, prediction in results.items():\n",
    "    id = id_with_prefix.split(\"_\")[1]\n",
    "    true_option = labels[id][\"answer\"]\n",
    "    \n",
    "    before_solution = prediction.split(\"Solution\")[0]\n",
    "\n",
    "    if \"(\" in prediction and \")\" in prediction:\n",
    "        pred_option = before_solution.split(\"(\")[-1].split(\")\")[0].strip()\n",
    "        pred_label = option_to_id.get(pred_option)\n",
    "    else:\n",
    "        continue  \n",
    "\n",
    "    total += 1\n",
    "    if pred_label == true_option:\n",
    "        correct += 1\n",
    "\n",
    "# 5. 정확도 계산\n",
    "accuracy = correct / total if total > 0 else 0.0\n",
    "print('total:', total)\n",
    "print('correct:', correct)\n",
    "print(f\"Accuracy: {accuracy:.4f} ({correct}/{total})\")\n"
   ]
  },
  {
   "cell_type": "code",
   "execution_count": 2,
   "id": "9263a76b",
   "metadata": {},
   "outputs": [
    {
     "name": "stdout",
     "output_type": "stream",
     "text": [
      "total: 271\n",
      "correct: 200\n",
      "Accuracy: 0.7380 (200/271)\n"
     ]
    }
   ],
   "source": [
    "import json\n",
    "\n",
    "result_path = '/home/mixlab/tabular/medthink/output/rad_closed_end_generate/Reasoning/First/test_response.json'\n",
    "label_path = '/home/mixlab/tabular/medthink/Medthink/Medthink_Dataset/R-RAD/closed-end/testset.json'\n",
    "\n",
    "with open(result_path, 'r') as f:\n",
    "    results = json.load(f)\n",
    "\n",
    "with open(label_path, 'r') as f:\n",
    "    labels = json.load(f)\n",
    "\n",
    "option_to_id = {'A': 0, 'B': 1}\n",
    "correct = 0\n",
    "total = 0\n",
    "\n",
    "for id_with_prefix, prediction in results.items():\n",
    "    id = id_with_prefix.split(\"_\")[1]\n",
    "    true_option = labels[id][\"answer\"]\n",
    "    \n",
    "    before_solution = prediction.split(\"Solution\")[0]\n",
    "\n",
    "    if \"(\" in prediction and \")\" in prediction:\n",
    "        pred_option = before_solution.split(\"(\")[-1].split(\")\")[0].strip()\n",
    "        pred_label = option_to_id.get(pred_option)\n",
    "    else:\n",
    "        continue  \n",
    "\n",
    "    total += 1\n",
    "    if pred_label == true_option:\n",
    "        correct += 1\n",
    "\n",
    "# 5. 정확도 계산\n",
    "accuracy = correct / total if total > 0 else 0.0\n",
    "print('total:', total)\n",
    "print('correct:', correct)\n",
    "print(f\"Accuracy: {accuracy:.4f} ({correct}/{total})\")\n"
   ]
  },
  {
   "cell_type": "code",
   "execution_count": 3,
   "id": "eb7e1bbc",
   "metadata": {},
   "outputs": [
    {
     "name": "stdout",
     "output_type": "stream",
     "text": [
      "total: 1822\n",
      "correct: 1813\n",
      "Accuracy: 0.9951 (1813/1822)\n"
     ]
    }
   ],
   "source": [
    "import json\n",
    "\n",
    "result_path = '/home/mixlab/tabular/medthink/output/rad_closed_end_generate/Reasoning/First/train_response.json'\n",
    "label_path = '/home/mixlab/tabular/medthink/Medthink/Medthink_Dataset/R-RAD/closed-end/trainset.json'\n",
    "\n",
    "with open(result_path, 'r') as f:\n",
    "    results = json.load(f)\n",
    "\n",
    "with open(label_path, 'r') as f:\n",
    "    labels = json.load(f)\n",
    "\n",
    "option_to_id = {'A': 0, 'B': 1}\n",
    "correct = 0\n",
    "total = 0\n",
    "\n",
    "for id_with_prefix, prediction in results.items():\n",
    "    id = id_with_prefix.split(\"_\")[1]\n",
    "    true_option = labels[id][\"answer\"]\n",
    "    \n",
    "    before_solution = prediction.split(\"Solution\")[0]\n",
    "\n",
    "    if \"(\" in prediction and \")\" in prediction:\n",
    "        pred_option = before_solution.split(\"(\")[-1].split(\")\")[0].strip()\n",
    "        pred_label = option_to_id.get(pred_option)\n",
    "    else:\n",
    "        continue  \n",
    "\n",
    "    total += 1\n",
    "    if pred_label == true_option:\n",
    "        correct += 1\n",
    "\n",
    "# 5. 정확도 계산\n",
    "accuracy = correct / total if total > 0 else 0.0\n",
    "print('total:', total)\n",
    "print('correct:', correct)\n",
    "print(f\"Accuracy: {accuracy:.4f} ({correct}/{total})\")\n"
   ]
  },
  {
   "cell_type": "code",
   "execution_count": null,
   "id": "f69455f8",
   "metadata": {},
   "outputs": [],
   "source": []
  }
 ],
 "metadata": {
  "kernelspec": {
   "display_name": "medthink",
   "language": "python",
   "name": "python3"
  },
  "language_info": {
   "codemirror_mode": {
    "name": "ipython",
    "version": 3
   },
   "file_extension": ".py",
   "mimetype": "text/x-python",
   "name": "python",
   "nbconvert_exporter": "python",
   "pygments_lexer": "ipython3",
   "version": "3.8.20"
  }
 },
 "nbformat": 4,
 "nbformat_minor": 5
}
